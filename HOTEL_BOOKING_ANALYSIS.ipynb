{
  "nbformat": 4,
  "nbformat_minor": 0,
  "metadata": {
    "colab": {
      "private_outputs": true,
      "provenance": [],
      "collapsed_sections": [
        "mDgbUHAGgjLW",
        "Y3lxredqlCYt",
        "7hBIi_osiCS2",
        "JlHwYmJAmNHm",
        "gfoNAAC-nUe_",
        "2fCdeqLl64WE",
        "bKJF3rekwFvQ",
        "2ac8iv4sMqe6",
        "0wOQAZs5pc--",
        "KSlN3yHqYklG",
        "EM7whBJCYoAo",
        "bamQiAODYuh1",
        "PIIx-8_IphqN",
        "BZR9WyysphqO",
        "YJ55k-q6phqO",
        "4Of9eVA-YrdM",
        "x-EpHcCOp1ci",
        "OH-pJp9IphqM",
        "U2RJ9gkRphqQ",
        "n3dbpmDWp1ck",
        "ZWILFDl5p1ck",
        "Ag9LCva-p1cl",
        "NC_X3p0fY2L0",
        "gIfDvo9L0UH2"
      ]
    },
    "kernelspec": {
      "name": "python3",
      "display_name": "Python 3"
    },
    "language_info": {
      "name": "python"
    }
  },
  "cells": [
    {
      "cell_type": "markdown",
      "source": [
        "# **Project Name**    - HOTEL BOOKING ANALYSIS(EDA)\n",
        "\n"
      ],
      "metadata": {
        "id": "vncDsAP0Gaoa"
      }
    },
    {
      "cell_type": "markdown",
      "source": [
        "##### **Project Type**    - EDA\n",
        "##### **Contribution**    - Individual\n"
      ],
      "metadata": {
        "id": "beRrZCGUAJYm"
      }
    },
    {
      "cell_type": "markdown",
      "source": [
        "# **Project Summary -**"
      ],
      "metadata": {
        "id": "FJNUwmbgGyua"
      }
    },
    {
      "cell_type": "markdown",
      "source": [
        "The primary objective of the project is to extract actionable insights from the data that can help the hotel management make informed decisions to enhance revenue, customer satisfaction, and operational efficiency.\n",
        "\n",
        "**Approach:**\n",
        "\n",
        "**Data Exploration:**\n",
        "\n",
        "Explore the dataset to understand its structure, features, and distribution of data.\n",
        "Identify key variables and factors that may influence booking patterns and hotel performance.\n",
        "\n",
        "**Data Wrangling**\n",
        "\n",
        "Utilise various techniques to clean, transform raw data into meaning full data\n",
        "by finding null values,duplicate values,outliers, creating useful columns,modifying the data types if required.\n",
        "\n",
        "**Data Visualization:**\n",
        "\n",
        "Utilize various visualization techniques, including histograms, bar charts, pie charts, scatter plots, and heatmaps, to visualize data patterns and relationships.\n",
        "Analyze trends, distributions, correlations, and anomalies in the data to uncover insights.\n",
        "\n",
        "**Insight Generation:**\n",
        "\n",
        "Extract meaningful insights and trends from the visualizations to understand customer behavior, booking patterns, and market dynamics.\n",
        "Identify areas of improvement and opportunities for optimization in pricing, marketing, distribution, and customer service."
      ],
      "metadata": {
        "id": "F6v_1wHtG2nS"
      }
    },
    {
      "cell_type": "markdown",
      "source": [
        "# **GitHub Link -**"
      ],
      "metadata": {
        "id": "w6K7xa23Elo4"
      }
    },
    {
      "cell_type": "markdown",
      "source": [
        "Provide your GitHub Link here."
      ],
      "metadata": {
        "id": "h1o69JH3Eqqn"
      }
    },
    {
      "cell_type": "markdown",
      "source": [
        "# **Problem Statement**\n"
      ],
      "metadata": {
        "id": "yQaldy8SH6Dl"
      }
    },
    {
      "cell_type": "markdown",
      "source": [
        "The hotel industry is highly competitive, with hotels constantly striving to attract and retain customers while optimizing revenue and operational efficiency. In this context, the management of a hotel chain wants to gain insights from their booking data to inform strategic decisions and improve business performance."
      ],
      "metadata": {
        "id": "DpeJGUA3kjGy"
      }
    },
    {
      "cell_type": "markdown",
      "source": [
        "#### **Define Your Business Objective?**"
      ],
      "metadata": {
        "id": "PH-0ReGfmX4f"
      }
    },
    {
      "cell_type": "markdown",
      "source": [
        "The primary business objective is to enhance the overall performance and competitiveness of the hotel chain by leveraging data-driven insights to inform strategic decision-making across various aspects of the business, including revenue management, customer segmentation, operational efficiency, and competitive positioning."
      ],
      "metadata": {
        "id": "PhDvGCAqmjP1"
      }
    },
    {
      "cell_type": "markdown",
      "source": [
        "# **General Guidelines** : -  "
      ],
      "metadata": {
        "id": "mDgbUHAGgjLW"
      }
    },
    {
      "cell_type": "markdown",
      "source": [
        "1.   Well-structured, formatted, and commented code is required.\n",
        "\n",
        "---\n",
        "\n",
        "\n",
        "2.   Exception Handling, Production Grade Code & Deployment Ready Code will be a plus. Those students will be awarded some additional credits.\n",
        "     \n",
        "     The additional credits will have advantages over other students during Star Student selection.\n",
        "       \n",
        "             [ Note: - Deployment Ready Code is defined as, the whole .ipynb notebook should be executable in one go\n",
        "                       without a single error logged. ]\n",
        "\n",
        "3.   Each and every logic should have proper comments.\n",
        "4. You may add as many number of charts you want. Make Sure for each and every chart the following format should be answered.\n",
        "        \n",
        "\n",
        "```\n",
        "# Chart visualization code\n",
        "```\n",
        "            \n",
        "\n",
        "*   Why did you pick the specific chart?\n",
        "*   What is/are the insight(s) found from the chart?\n",
        "* Will the gained insights help creating a positive business impact?\n",
        "Are there any insights that lead to negative growth? Justify with specific reason.\n",
        "\n",
        "5. You have to create at least 20 logical & meaningful charts having important insights.\n",
        "\n",
        "\n",
        "[ Hints : - Do the Vizualization in  a structured way while following \"UBM\" Rule.\n",
        "\n",
        "U - Univariate Analysis,\n",
        "\n",
        "B - Bivariate Analysis (Numerical - Categorical, Numerical - Numerical, Categorical - Categorical)\n",
        "\n",
        "M - Multivariate Analysis\n",
        " ]\n",
        "\n",
        "\n",
        "\n"
      ],
      "metadata": {
        "id": "ZrxVaUj-hHfC"
      }
    },
    {
      "cell_type": "markdown",
      "source": [
        "# ***Let's Begin !***"
      ],
      "metadata": {
        "id": "O_i_v8NEhb9l"
      }
    },
    {
      "cell_type": "markdown",
      "source": [
        "## ***1. Know Your Data***"
      ],
      "metadata": {
        "id": "HhfV-JJviCcP"
      }
    },
    {
      "cell_type": "markdown",
      "source": [
        "### Import Libraries"
      ],
      "metadata": {
        "id": "Y3lxredqlCYt"
      }
    },
    {
      "cell_type": "code",
      "source": [
        "# Import Libraries\n",
        "import pandas as pd\n",
        "import numpy as np\n",
        "import matplotlib.pyplot as plt\n",
        "import seaborn as sns"
      ],
      "metadata": {
        "id": "M8Vqi-pPk-HR"
      },
      "execution_count": null,
      "outputs": []
    },
    {
      "cell_type": "markdown",
      "source": [
        "### Dataset Loading"
      ],
      "metadata": {
        "id": "3RnN4peoiCZX"
      }
    },
    {
      "cell_type": "code",
      "source": [
        "# Load Dataset using google drive\n",
        "#mounted a drive\n",
        "from google.colab import drive\n",
        "drive.mount('/content/drive')\n",
        "\n"
      ],
      "metadata": {
        "id": "4CkvbW_SlZ_R"
      },
      "execution_count": null,
      "outputs": []
    },
    {
      "cell_type": "code",
      "source": [
        "path='/content/drive/MyDrive/CAPSTONE MODULE 2/Hotel Bookings.csv'\n",
        "dataset=pd.read_csv(path)\n",
        "dataset"
      ],
      "metadata": {
        "id": "_3CEZ8ez4Jd5"
      },
      "execution_count": null,
      "outputs": []
    },
    {
      "cell_type": "markdown",
      "source": [
        "### Dataset First View"
      ],
      "metadata": {
        "id": "x71ZqKXriCWQ"
      }
    },
    {
      "cell_type": "code",
      "source": [
        "# Dataset First Look\n",
        "dataset.head()"
      ],
      "metadata": {
        "id": "LWNFOSvLl09H"
      },
      "execution_count": null,
      "outputs": []
    },
    {
      "cell_type": "code",
      "source": [
        "dataset.tail()"
      ],
      "metadata": {
        "id": "LXVfZkN52hyK"
      },
      "execution_count": null,
      "outputs": []
    },
    {
      "cell_type": "markdown",
      "source": [
        "### Dataset Rows & Columns count"
      ],
      "metadata": {
        "id": "7hBIi_osiCS2"
      }
    },
    {
      "cell_type": "code",
      "source": [
        "# Dataset Rows & Columns count\n",
        "dataset.shape\n"
      ],
      "metadata": {
        "id": "Kllu7SJgmLij"
      },
      "execution_count": null,
      "outputs": []
    },
    {
      "cell_type": "markdown",
      "source": [
        "### Dataset Information"
      ],
      "metadata": {
        "id": "JlHwYmJAmNHm"
      }
    },
    {
      "cell_type": "code",
      "source": [
        "# Dataset Info\n",
        "dataset.info()"
      ],
      "metadata": {
        "id": "e9hRXRi6meOf"
      },
      "execution_count": null,
      "outputs": []
    },
    {
      "cell_type": "markdown",
      "source": [
        "#### Duplicate Values"
      ],
      "metadata": {
        "id": "35m5QtbWiB9F"
      }
    },
    {
      "cell_type": "code",
      "source": [
        "# Dataset Duplicate Value Count\n",
        "dataset[dataset.duplicated()].shape\n"
      ],
      "metadata": {
        "id": "1sLdpKYkmox0"
      },
      "execution_count": null,
      "outputs": []
    },
    {
      "cell_type": "markdown",
      "source": [
        "#### Missing Values/Null Values"
      ],
      "metadata": {
        "id": "PoPl-ycgm1ru"
      }
    },
    {
      "cell_type": "code",
      "source": [
        "# Missing Values/Null Values Count\n",
        "missing_values=dataset.isnull().sum()\n",
        "print(missing_values)"
      ],
      "metadata": {
        "id": "GgHWkxvamxVg"
      },
      "execution_count": null,
      "outputs": []
    },
    {
      "cell_type": "code",
      "source": [
        "# Visualizing the missing values\n",
        "plt.figure(figsize=(10, 6))\n",
        "sns.heatmap(dataset.isnull(), cmap='viridis', cbar=False)\n",
        "plt.title('Missing Values Heatmap')\n",
        "plt.show()"
      ],
      "metadata": {
        "id": "3q5wnI3om9sJ"
      },
      "execution_count": null,
      "outputs": []
    },
    {
      "cell_type": "code",
      "source": [
        "\n",
        "\n",
        "# Calculate percentage of missing values for each column\n",
        "missing_percentage = (dataset.isnull().sum() / len(dataset)) * 100\n",
        "\n",
        "# Create a bar plot\n",
        "plt.figure(figsize=(15, 6))\n",
        "missing_percentage.plot(kind='bar')\n",
        "plt.title('Percentage of Missing Values by Column')\n",
        "plt.xlabel('Columns')\n",
        "plt.ylabel('Percentage of Missing Values')\n",
        "plt.xticks(rotation=45)\n",
        "plt.show()\n"
      ],
      "metadata": {
        "id": "ydH6V0tnbPuk"
      },
      "execution_count": null,
      "outputs": []
    },
    {
      "cell_type": "markdown",
      "source": [
        "### **What did you know about your dataset?**"
      ],
      "metadata": {
        "id": "gfoNAAC-nUe_"
      }
    },
    {
      "cell_type": "markdown",
      "source": [
        "**Size and Structure:** We know the number of rows and columns in the dataset.\n",
        "\n",
        "**Column Names:** We have a list of column names, which gives us an idea of the type of information contained in the dataset.\n",
        "\n",
        "**Data Types:** We have information about the data types of each column (e.g., numerical, categorical) through the info() method.\n",
        "\n",
        "**Duplicate Values:** We've identified if there are any duplicate rows in the dataset.\n",
        "\n",
        "**Missing Values:** We've calculated the count and percentage of missing values in each column and visualized their distribution using a heatmap and a bar plot.\n",
        "**NULL Values:** We saw number of null values present in the data set.\n",
        "\n",
        "**DATA type:** We saw the data type of each column as got the information about wrongly assigned Data Types of some columns like\n",
        "arrival_date_month,childre,country,agent,company,reservation_status_date.\n"
      ],
      "metadata": {
        "id": "VHAepHFUk_mT"
      }
    },
    {
      "cell_type": "markdown",
      "source": [
        "## ***2. Understanding Your Variables***"
      ],
      "metadata": {
        "id": "2fCdeqLl64WE"
      }
    },
    {
      "cell_type": "code",
      "source": [
        "dataset.head()"
      ],
      "metadata": {
        "id": "hJWjD1NQA5u4"
      },
      "execution_count": null,
      "outputs": []
    },
    {
      "cell_type": "code",
      "source": [
        "#Dataset Columns\n",
        "dataset.columns"
      ],
      "metadata": {
        "id": "tyvuXbaeBy-6"
      },
      "execution_count": null,
      "outputs": []
    },
    {
      "cell_type": "code",
      "source": [
        "# Dataset Columns\n",
        "dataset.loc[:,('adr')]"
      ],
      "metadata": {
        "id": "j7xfkqrt5Ag5"
      },
      "execution_count": null,
      "outputs": []
    },
    {
      "cell_type": "code",
      "source": [
        "# Dataset Describe\n",
        "dataset.describe()"
      ],
      "metadata": {
        "id": "DnOaZdaE5Q5t"
      },
      "execution_count": null,
      "outputs": []
    },
    {
      "cell_type": "code",
      "source": [
        "#"
      ],
      "metadata": {
        "id": "Zno3RhJTBwlA"
      },
      "execution_count": null,
      "outputs": []
    },
    {
      "cell_type": "markdown",
      "source": [
        "The .describe() method in Python is used to generate descriptive statistics of a DataFrame or Series. It provides summary statistics such as count, mean, standard deviation, minimum, maximum, and quartile values for numerical data.\n",
        "FROM here we got to know some 'adr' are negative (-6.38),so we'll try to understand more about 'adr' and how many values are negative."
      ],
      "metadata": {
        "id": "wgPxwA_gByCK"
      }
    },
    {
      "cell_type": "markdown",
      "source": [
        "### Variables Description"
      ],
      "metadata": {
        "id": "PBTbrJXOngz2"
      }
    },
    {
      "cell_type": "markdown",
      "source": [
        "**hotel**: This variable indicates the type of hotel booked. The unique values are 'Resort Hotel' and 'City Hotel'. This suggests that the dataset contains bookings for two types of hotels: resort hotels and city hotels.\n",
        "\n",
        "**is_canceled**: Binary variable indicating whether the booking was canceled (1) or not (0).\n",
        "\n",
        "**lead_time:** Number of days between the booking date and the arrival date.\n",
        "\n",
        "**arrival_date_year:** Year of arrival.\n",
        "\n",
        "**arrival_date_month:** Month of arrival.\n",
        "\n",
        "**arrival_date_week_number:** Week number of arrival.\n",
        "\n",
        "**arrival_date_day_of_month:** Day of the month of arrival\n",
        ".\n",
        "**stays_in_weekend_nights:** Number of weekend nights (Saturday/Sunday) the guest stayed or booked to stay.\n",
        "\n",
        "**stays_in_week_nights:** Number of weekday nights (Monday through Friday) the guest stayed or booked to stay.\n",
        "\n",
        "**adults:** Number of adults included in the booking.\n",
        "\n",
        "**children:** Number of children included in the booking.\n",
        "\n",
        "**babies:** Number of babies included in the booking.\n",
        "\n",
        "**meal:** This variable represents the type of meal booked. The unique values are 'BB' (Bed & Breakfast), 'FB' (Full Board), 'HB' (Half Board), 'SC' (Self Catering), and 'Undefined'. This suggests the meal plans chosen by guests when booking.\n",
        "\n",
        "**'country':** This variable represents the country of origin of the guests. The unique values include various country codes such as 'PRT' (Portugal), 'GBR' (United Kingdom), 'USA' (United States), 'ESP' (Spain), and many others. It appears that guests in the dataset come from a diverse range of countries.\n",
        "\n",
        "**'market_segment':** This variable represents the market segment designation for bookings. The unique values include 'Direct', 'Corporate', 'Online TA' (Online Travel Agents), 'Offline TA/TO' (Offline Travel Agents/ Tour Operators), 'Complementary', 'Groups', 'Undefined', and 'Aviation'. This suggests that bookings come from various market segments, such as direct bookings, corporate bookings, and travel agent bookings.\n",
        "\n",
        "**distribution_channel:**  This variable represents the booking distribution channel. The unique values include 'Direct', 'Corporate', 'TA/TO' (Travel Agents/ Tour Operators), 'Undefined', and 'GDS' (Global Distribution System). This indicates the different channels through which bookings are made.\n",
        "**is_repeated_guest:** Binary variable indicating whether the booking comes from a repeated guest (1) or not (0).\n",
        "\n",
        "**previous_cancellations:** Number of previous bookings canceled by the guest.\n",
        "\n",
        "**previous_bookings_not_canceled**: Number of previous bookings not canceled by the guest.\n",
        "\n",
        "**reserved_room_type:**  This variable indicates the type of room reserved by guests. The unique values include room types such as 'C', 'A', 'D', 'E', 'G', 'F', 'H', 'L', 'P', and 'B'. Each letter likely corresponds to a specific room category or type.\n",
        "\n",
        "**assigned_room_type:** This variable indicates the type of room assigned to the booking. The unique values are similar to 'reserved_room_type', indicating the types of rooms guests were actually assigned.\n",
        "\n",
        "**booking_changes:** Number of changes or modifications made to the booking.\n",
        "\n",
        "**deposit_type:** This variable represents the type of deposit made for the booking. The unique values include 'No Deposit', 'Refundable', and 'Non Refund'. This indicates the deposit policies associated with the bookings.\n",
        "\n",
        "**agent:** ID of the travel agency that made the booking.\n",
        "\n",
        "**company:** ID of the company/entity that made the booking or is responsible for paying for the booking.\n",
        "\n",
        "**days_in_waiting_list:** Number of days the booking was on the waiting list before it was confirmed.\n",
        "\n",
        "**customer_type:** This variable represents the type of booking customer. The unique values include 'Transient', 'Contract', 'Transient-Party', and 'Group'. This suggests different types of customers, such as individual transient guests, contract guests, transient group bookings, and group bookings.\n",
        "\n",
        "**adr:** Average Daily Rate, the average price per night of the booking.\n",
        "\n",
        "**required_car_parking_spaces:** Number of car parking spaces required by the guest.\n",
        "\n",
        "**total_of_special_requests:** Total number of special requests made by the guest.\n",
        "\n",
        "**reservation_status:** Current status of the reservation, such as Check-Out, Canceled, or No-Show.\n",
        "\n",
        "**reservation_status_date:** Date at which the reservation status was last set or updated."
      ],
      "metadata": {
        "id": "aJV4KIxSnxay"
      }
    },
    {
      "cell_type": "markdown",
      "source": [
        "### Check Unique Values for each variable."
      ],
      "metadata": {
        "id": "u3PMJOP6ngxN"
      }
    },
    {
      "cell_type": "markdown",
      "source": [
        "The **dataset.unique()** method is used to find the unique values present in a particular column of a dataset. It's necessary to check unique values to understand the diversity and distribution of data within that column. This information can be crucial for various data analysis tasks, such as identifying outliers, understanding categorical variables' levels, and ensuring data quality. By checking unique values, you can also detect any potential data entry errors or inconsistencies."
      ],
      "metadata": {
        "id": "-ELgfKELYxOl"
      }
    },
    {
      "cell_type": "markdown",
      "source": [
        "The choice of dataset variable to check unique values depends on the specific analysis or exploration task you're performing. Typically, it's useful to **check unique values for categorical variables** or columns containing discrete values. These may include variables such as:"
      ],
      "metadata": {
        "id": "_E813tpoY9Ei"
      }
    },
    {
      "cell_type": "code",
      "source": [
        "# we'll  find the unique values in categorical data\n",
        "variables_to_check = ['hotel', 'arrival_date_month', 'country', 'market_segment', 'distribution_channel',\n",
        "                      'meal', 'reserved_room_type', 'assigned_room_type', 'deposit_type', 'customer_type']\n",
        "for variable in variables_to_check:\n",
        "    unique_values = dataset[variable].unique()\n",
        "    print(f\"Unique values for '{variable}': {unique_values}\")\n"
      ],
      "metadata": {
        "id": "zms12Yq5n-jE"
      },
      "execution_count": null,
      "outputs": []
    },
    {
      "cell_type": "markdown",
      "source": [
        "## 3. ***Data Wrangling***"
      ],
      "metadata": {
        "id": "dauF4eBmngu3"
      }
    },
    {
      "cell_type": "markdown",
      "source": [
        "### Data Wrangling Code"
      ],
      "metadata": {
        "id": "bKJF3rekwFvQ"
      }
    },
    {
      "cell_type": "markdown",
      "source": [
        "DATA WRANGLING IS THE PROCESS OF DATA CLEANING, TRANSFORMING AND PREPARING THE RAW DATA INTO A FORMAT SUITABLE FOR ANALYSIS.\n"
      ],
      "metadata": {
        "id": "1_9_0JG9bwLH"
      }
    },
    {
      "cell_type": "code",
      "source": [
        "# Write your code to make your dataset analysis ready.\n",
        "# COPYING THE ORIGIBAL DATASET\n",
        "new_dataset=dataset.copy()\n",
        "new_dataset.head()"
      ],
      "metadata": {
        "id": "wk-9a2fpoLcV"
      },
      "execution_count": null,
      "outputs": []
    },
    {
      "cell_type": "code",
      "source": [
        "#remove the duplicates\n",
        "\n",
        "print(\"rows and columns of dataset:\", new_dataset.shape)\n",
        "print(\"rows and columns of duplicates:\", new_dataset[new_dataset.duplicated()].shape)"
      ],
      "metadata": {
        "id": "w9-f83AffKx2"
      },
      "execution_count": null,
      "outputs": []
    },
    {
      "cell_type": "code",
      "source": [
        "new_dataset.drop_duplicates(inplace = True)\n",
        "new_dataset.shape"
      ],
      "metadata": {
        "id": "20sNtSUMiD-y"
      },
      "execution_count": null,
      "outputs": []
    },
    {
      "cell_type": "code",
      "source": [
        "new_dataset[new_dataset.duplicated()].shape"
      ],
      "metadata": {
        "id": "qwtzJ8xgC_bl"
      },
      "execution_count": null,
      "outputs": []
    },
    {
      "cell_type": "code",
      "source": [
        "# Columns having missing values.\n",
        "new_dataset.isnull().sum().sort_values(ascending = False)"
      ],
      "metadata": {
        "id": "KCrV6awNj8aG"
      },
      "execution_count": null,
      "outputs": []
    },
    {
      "cell_type": "markdown",
      "source": [
        "The **'country' column** has a relatively small number of missing values (452). For categorical variables like 'country', one common approach is to impute missing values with the mode (most frequent value) of the column.\n",
        "\n",
        "The **'children' column** has a very small number of missing values (4). For numerical variables like 'children', you can impute missing values with the mean, median, or mode of the column. Since the number of missing values is minimal, imputing with the mean or median could be reasonable.\n",
        "\n",
        "In this case, **'company'** has a significant number of missing values (82137), and **'agent**' also has a considerable number (12193). Consider whether these columns are necessary for your analysis or can be dropped.\n",
        "But we'll replace the mssing value with O as the reservation doesn't include company/agent are done on self.\n"
      ],
      "metadata": {
        "id": "FXorwPBiDhGX"
      }
    },
    {
      "cell_type": "code",
      "source": [
        "#imputation\n",
        "new_dataset['children'].fillna(new_dataset['children'].median(), inplace=True)\n",
        "new_dataset['country'].fillna(new_dataset['country'].mode()[0], inplace=True)\n",
        "\n",
        "## Replace missing values with 0 in the 'company' and 'agent' columns\n",
        "new_dataset['company'].fillna(0, inplace=True)\n",
        "new_dataset['agent'].fillna(0, inplace=True)\n",
        "\n",
        "##\n",
        "\n"
      ],
      "metadata": {
        "id": "FaU71R-plDS8"
      },
      "execution_count": null,
      "outputs": []
    },
    {
      "cell_type": "code",
      "source": [
        "# Columns having missing values.\n",
        "new_dataset.isnull().sum().sort_values(ascending = False)"
      ],
      "metadata": {
        "id": "nMpzuMYBHc8H"
      },
      "execution_count": null,
      "outputs": []
    },
    {
      "cell_type": "markdown",
      "source": [
        "Examine the rows where the sum of 'babies', 'adults', and 'children' is zero to understand the context and potential reasons for this occurrence.(RESERVED BUT DIDN'T CHECK IN)\n",
        "Check if these records are valid or if they represent anomalies or errors in the data entry process.(DROP THEM)\n",
        "\n",
        "-if sum of 'babies', 'adults', and 'children' is zero and reservation_status is checked-out means it is an error and it can be dropped.\n",
        "-if  sum of 'babies', 'adults', and 'children' is zero but reservation status is cancelled and No-show, this can be used to find the cancelled bookings and no show booking"
      ],
      "metadata": {
        "id": "tN56cbt4Ho7Q"
      }
    },
    {
      "cell_type": "code",
      "source": [
        "new_dataset[new_dataset['adults']+new_dataset['babies']+new_dataset['children'] == 0].shape"
      ],
      "metadata": {
        "id": "OHYuWT7jLf4M"
      },
      "execution_count": null,
      "outputs": []
    },
    {
      "cell_type": "code",
      "source": [
        "# Filter rows where the sum of 'adults', 'babies', and 'children' is zero and 'reservation_status' is 'Check-Out'\n",
        "new_dataset[(new_dataset['adults'] + new_dataset['babies'] + new_dataset['children'] == 0) & (new_dataset['reservation_status'] == 'Check-Out')].shape\n",
        "\n"
      ],
      "metadata": {
        "id": "ImvR85_8MADR"
      },
      "execution_count": null,
      "outputs": []
    },
    {
      "cell_type": "code",
      "source": [
        "# Drop rows where the sum of 'adults', 'babies', and 'children' is zero and 'reservation_status' is 'Check-Out'\n",
        "new_dataset.drop(new_dataset[(new_dataset['adults'] + new_dataset['babies'] + new_dataset['children'] == 0) & (new_dataset['reservation_status'] == 'Check-Out')].index, inplace=True)\n"
      ],
      "metadata": {
        "id": "zXlchbN2Lftx"
      },
      "execution_count": null,
      "outputs": []
    },
    {
      "cell_type": "code",
      "source": [
        "new_dataset[new_dataset['adults']+new_dataset['babies']+new_dataset['children'] == 0].shape"
      ],
      "metadata": {
        "id": "knHy4EUUMrS-"
      },
      "execution_count": null,
      "outputs": []
    },
    {
      "cell_type": "code",
      "source": [
        "new_dataset.shape"
      ],
      "metadata": {
        "id": "e_Iuu-FjOCnZ"
      },
      "execution_count": null,
      "outputs": []
    },
    {
      "cell_type": "code",
      "source": [
        "new_dataset.isnull().sum()"
      ],
      "metadata": {
        "id": "dUZvyFsJOpc9"
      },
      "execution_count": null,
      "outputs": []
    },
    {
      "cell_type": "code",
      "source": [
        "new_dataset[new_dataset.duplicated()].shape"
      ],
      "metadata": {
        "id": "EDDUOiSFO3vz"
      },
      "execution_count": null,
      "outputs": []
    },
    {
      "cell_type": "code",
      "source": [
        "new_dataset.drop_duplicates(inplace = True)\n",
        "new_dataset.shape"
      ],
      "metadata": {
        "id": "a3vzcc6qPEl2"
      },
      "execution_count": null,
      "outputs": []
    },
    {
      "cell_type": "code",
      "source": [
        "new_dataset[new_dataset.duplicated()].shape"
      ],
      "metadata": {
        "id": "qwU5t69cPG5V"
      },
      "execution_count": null,
      "outputs": []
    },
    {
      "cell_type": "code",
      "source": [],
      "metadata": {
        "id": "JQl94CKPMpoN"
      },
      "execution_count": null,
      "outputs": []
    },
    {
      "cell_type": "markdown",
      "source": [
        "**CONVERTING DATASET**\n",
        "\n",
        "1.converting children,company,agent data type from float to int\n",
        "\n",
        "2reservation_status_date from object to datetime format"
      ],
      "metadata": {
        "id": "2ac8iv4sMqe6"
      }
    },
    {
      "cell_type": "code",
      "source": [
        "new_dataset[['children', 'company', 'agent']] = new_dataset[['children', 'company', 'agent']].astype('int64')\n",
        "\n",
        "new_dataset['reservation_status_date'] = pd.to_datetime(new_dataset['reservation_status_date'], format = '%Y-%m-%d')"
      ],
      "metadata": {
        "id": "pzZtwPKVMZK6"
      },
      "execution_count": null,
      "outputs": []
    },
    {
      "cell_type": "markdown",
      "source": [
        "**ADDING NEW COLUMNS FOR FUTURE USE**"
      ],
      "metadata": {
        "id": "T_i8-a71IUzb"
      }
    },
    {
      "cell_type": "code",
      "source": [
        "# Adding total staying days in hotels\n",
        "new_dataset['total_stay'] = new_dataset['stays_in_weekend_nights']+new_dataset['stays_in_week_nights']\n",
        "\n",
        "# Adding total people num as column, i.e. total people num = num of adults + children + babies\n",
        "new_dataset['total_people'] = new_dataset['adults']+new_dataset['children']+new_dataset['babies']"
      ],
      "metadata": {
        "id": "AcFPJBQIIT3s"
      },
      "execution_count": null,
      "outputs": []
    },
    {
      "cell_type": "markdown",
      "source": [],
      "metadata": {
        "id": "x3qClSjSInHh"
      }
    },
    {
      "cell_type": "markdown",
      "source": [
        "### What all manipulations have you done and insights you found?"
      ],
      "metadata": {
        "id": "MSa1f5Uengrz"
      }
    },
    {
      "cell_type": "markdown",
      "source": [
        " ALL THIS INSIGHTS ARE WRITTEN WITH THE CODE, PLEASE CHECK"
      ],
      "metadata": {
        "id": "LbyXE7I1olp8"
      }
    },
    {
      "cell_type": "markdown",
      "source": [
        "## ***4. Data Vizualization, Storytelling & Experimenting with charts : Understand the relationships between variables***"
      ],
      "metadata": {
        "id": "GF8Ens_Soomf"
      }
    },
    {
      "cell_type": "markdown",
      "source": [
        "#### Chart - 1"
      ],
      "metadata": {
        "id": "0wOQAZs5pc--"
      }
    },
    {
      "cell_type": "code",
      "source": [
        "\n",
        "# Count the number of bookings for each agent\n",
        "agent_counts = new_dataset['agent'].value_counts()\n",
        "\n",
        "# Select top 10 performing agents\n",
        "top_agents = agent_counts[agent_counts.index != 0].nlargest(10)\n",
        "\n",
        "# Create DataFrame from top agents\n",
        "d1 = pd.DataFrame({'agent': top_agents.index, 'num_of_bookings': top_agents.values})\n",
        "\n",
        "plt.figure(figsize=(10, 5))\n",
        "sns.barplot(x='agent', y='num_of_bookings', data=d1)\n",
        "plt.title('Top 10 Performing Agents')\n",
        "plt.xlabel('Agent')\n",
        "plt.ylabel('Number of Bookings')\n",
        "plt.xticks(rotation=45)  # Rotate x-axis labels for better readability\n",
        "plt.tight_layout()       # Adjust layout to prevent clipping of labels\n",
        "plt.show()"
      ],
      "metadata": {
        "id": "7v_ESjsspbW7"
      },
      "execution_count": null,
      "outputs": []
    },
    {
      "cell_type": "markdown",
      "source": [
        "##### 1. Why did you pick the specific chart?"
      ],
      "metadata": {
        "id": "K5QZ13OEpz2H"
      }
    },
    {
      "cell_type": "markdown",
      "source": [
        "The bar chart is a suitable choice for visualizing the performance of agents based on the number of bookings they have made, offering clarity, comparability, and ease of interpretation.\n"
      ],
      "metadata": {
        "id": "XESiWehPqBRc"
      }
    },
    {
      "cell_type": "markdown",
      "source": [
        "##### 2. What is/are the insight(s) found from the chart?"
      ],
      "metadata": {
        "id": "lQ7QKXXCp7Bj"
      }
    },
    {
      "cell_type": "markdown",
      "source": [
        "We got the data visulization of tgo performing agents and we can clearly see that agent'9' is performing extremly good followed by agent '250'"
      ],
      "metadata": {
        "id": "C_j1G7yiqdRP"
      }
    },
    {
      "cell_type": "markdown",
      "source": [
        "##### 3. Will the gained insights help creating a positive business impact?\n",
        "Are there any insights that lead to negative growth? Justify with specific reason."
      ],
      "metadata": {
        "id": "448CDAPjqfQr"
      }
    },
    {
      "cell_type": "markdown",
      "source": [
        "**Positive Business Impact:**\n",
        "\n",
        "**Optimized Resource Allocation:** Identifying top-performing agents allows the company to allocate resources effectively. By focusing more resources, support, and incentives on these agents, the company can enhance their performance further, leading to increased bookings and revenue.\n",
        "\n",
        "**Potential Negative Growth:**\n",
        "\n",
        "**Dependency on Top Agents:** Over-reliance on a few top-performing agents may create a risk of dependency. If these agents leave the company or experience a decline in performance, it could significantly impact bookings and revenue, leading to negative growth. Diversifying the agent pool and nurturing talent across the board can mitigate this risk."
      ],
      "metadata": {
        "id": "3cspy4FjqxJW"
      }
    },
    {
      "cell_type": "markdown",
      "source": [
        "#### Chart - 2"
      ],
      "metadata": {
        "id": "KSlN3yHqYklG"
      }
    },
    {
      "cell_type": "code",
      "source": [
        "# Chart - 2 visualization code\n",
        "\n",
        "# Calculate percentage of each hotel type\n",
        "hotel_percentage = (new_dataset['hotel'].value_counts() / len(new_dataset['hotel'])) * 100\n",
        "\n",
        "plt.figure(figsize=(8, 6))\n",
        "sns.barplot(x=hotel_percentage.index, y=hotel_percentage.values)\n",
        "plt.title('Percentage of Hotel Types')\n",
        "plt.xlabel('Hotel Type')\n",
        "plt.ylabel('Percentage')\n",
        "plt.ylim(0, 100)  # Set y-axis limit to ensure percentages are between 0 and 100\n",
        "plt.xticks(rotation=45)  # Rotate x-axis labels for better readability\n",
        "plt.tight_layout()\n",
        "plt.show()\n"
      ],
      "metadata": {
        "id": "R4YgtaqtYklH"
      },
      "execution_count": null,
      "outputs": []
    },
    {
      "cell_type": "markdown",
      "source": [
        "##### 1. Why did you pick the specific chart?"
      ],
      "metadata": {
        "id": "t6dVpIINYklI"
      }
    },
    {
      "cell_type": "markdown",
      "source": [
        "The bar chart is a suitable choice for visualizing the performance of agents based on the number of bookings they have made, offering clarity, comparability, and ease of interpretation.\n"
      ],
      "metadata": {
        "id": "5aaW0BYyYklI"
      }
    },
    {
      "cell_type": "markdown",
      "source": [
        "##### 2. What is/are the insight(s) found from the chart?"
      ],
      "metadata": {
        "id": "ijmpgYnKYklI"
      }
    },
    {
      "cell_type": "markdown",
      "source": [
        "we can clearly see that City hotesls have 60%  reservations whereas remaining 40% are with Resort Hotels"
      ],
      "metadata": {
        "id": "PSx9atu2YklI"
      }
    },
    {
      "cell_type": "markdown",
      "source": [
        "##### 3. Will the gained insights help creating a positive business impact?\n",
        "Are there any insights that lead to negative growth? Justify with specific reason."
      ],
      "metadata": {
        "id": "-JiQyfWJYklI"
      }
    },
    {
      "cell_type": "markdown",
      "source": [
        "**Positive Business Impact:**\n",
        "Targeted Marketing Strategies: Understanding the percentage distribution of hotel types allows businesses to tailor their marketing strategies more effectively. For example, if a particular type of hotel is more prevalent among customers, marketing efforts can be focused on highlighting the unique features and amenities of that type to attract more customers, thereby increasing bookings and revenue."
      ],
      "metadata": {
        "id": "BcBbebzrYklV"
      }
    },
    {
      "cell_type": "markdown",
      "source": [
        "#### Chart - 3"
      ],
      "metadata": {
        "id": "EM7whBJCYoAo"
      }
    },
    {
      "cell_type": "code",
      "source": [
        "# Chart - 3 visualization code\n",
        "grouped_by_hotel = new_dataset.groupby('hotel')\n",
        "\n",
        "# Calculate average ADR for each hotel category\n",
        "new_dataset1 = grouped_by_hotel['adr'].agg(np.mean).reset_index().rename(columns={'adr': 'avg_adr'})\n",
        "\n",
        "# Create the bar plot\n",
        "plt.figure(figsize=(8, 5))\n",
        "sns.barplot(x=new_dataset1['hotel'], y=new_dataset1['avg_adr'])\n",
        "plt.show()"
      ],
      "metadata": {
        "id": "irlUoxc8YrdO"
      },
      "execution_count": null,
      "outputs": []
    },
    {
      "cell_type": "markdown",
      "source": [
        "##### 1. Why did you pick the specific chart?"
      ],
      "metadata": {
        "id": "iky9q4vBYrdO"
      }
    },
    {
      "cell_type": "markdown",
      "source": [
        "The bar chart is a suitable choice for visualizing the performance of agents based on the number of bookings they have made, offering clarity, comparability, and ease of interpretation.\n",
        "\n"
      ],
      "metadata": {
        "id": "Xx8WAJvtYrdO"
      }
    },
    {
      "cell_type": "markdown",
      "source": [
        "##### 2. What is/are the insight(s) found from the chart?"
      ],
      "metadata": {
        "id": "F6T5p64dYrdO"
      }
    },
    {
      "cell_type": "code",
      "source": [
        "resort_hotels = new_dataset[new_dataset['hotel'] == 'Resort Hotel']\n",
        "city_hotels = new_dataset[new_dataset['hotel'] == 'City Hotel']\n",
        "\n",
        "# Calculate average ADR for resort hotels and city hotels\n",
        "avg_adr_resort = resort_hotels['adr'].mean()\n",
        "avg_adr_city = city_hotels['adr'].mean()\n",
        "adr_difference =  avg_adr_city-avg_adr_resort\n",
        "\n",
        "print(\"Average ADR of Resort Hotel:\", avg_adr_resort)\n",
        "print(\"Average ADR of City Hotel:\", avg_adr_city)\n",
        "print(\"Difference in ADR (City Hotel - Resort Hotel):\", adr_difference)"
      ],
      "metadata": {
        "id": "5X1ShHp2oMrT"
      },
      "execution_count": null,
      "outputs": []
    },
    {
      "cell_type": "markdown",
      "source": [
        "Despite the higher demand for city hotels, the fact that the average daily rate (ADR) of city hotels is slightly higher than that of resort hotels indicates a different pricing strategy. City hotels may capitalize on factors such as location, amenities, or business demand to justify higher prices, while resort hotels may focus on attracting customers with competitive pricing or bundled vacation packages."
      ],
      "metadata": {
        "id": "aJRCwT6DYrdO"
      }
    },
    {
      "cell_type": "markdown",
      "source": [
        "##### 3. Will the gained insights help creating a positive business impact?\n",
        "Are there any insights that lead to negative growth? Justify with specific reason."
      ],
      "metadata": {
        "id": "y-Ehk30pYrdP"
      }
    },
    {
      "cell_type": "markdown",
      "source": [
        "**Positive Business Impact:**\n",
        "\n",
        "**Optimized Pricing Strategies**: Understanding the demand distribution and pricing dynamics between city hotels and resort hotels allows businesses to tailor their pricing strategies effectively. This can help maximize revenue by capitalizing on market demand and setting competitive prices that attract customers while maintaining profitability.\n",
        "\n"
      ],
      "metadata": {
        "id": "jLNxxz7MYrdP"
      }
    },
    {
      "cell_type": "markdown",
      "source": [
        "#### Chart - 4"
      ],
      "metadata": {
        "id": "bamQiAODYuh1"
      }
    },
    {
      "cell_type": "code",
      "source": [
        "# Chart - 5 visualization code\n",
        "# Selecting and counting repeated customers bookings\n",
        "repeated_data = new_dataset[new_dataset['is_repeated_guest'] == 1]\n",
        "repeat_grp = repeated_data.groupby('hotel')\n",
        "repeated_guest = pd.DataFrame(repeat_grp.size()).rename(columns = {0:'total_repeated_guests'})\n",
        "\n",
        "# Counting total bookings\n",
        "total_booking = grouped_by_hotel.size()\n",
        "total_bookings = pd.DataFrame(total_booking).rename(columns = {0: 'total_bookings'})\n",
        "concat_data = pd.concat([repeated_guest,total_bookings], axis = 1)\n",
        "\n",
        "# Calculating repeat %\n",
        "concat_data['repeat_customer_%'] = round((concat_data['total_repeated_guests']/concat_data['total_bookings'])*100,2)\n",
        "\n",
        "plt.figure(figsize = (10,5))\n",
        "sns.barplot(x = concat_data.index, y = concat_data['repeat_customer_%'])\n",
        "plt.show()"
      ],
      "metadata": {
        "id": "TIJwrbroYuh3"
      },
      "execution_count": null,
      "outputs": []
    },
    {
      "cell_type": "markdown",
      "source": [
        "##### 1. Why did you pick the specific chart?"
      ],
      "metadata": {
        "id": "QHF8YVU7Yuh3"
      }
    },
    {
      "cell_type": "markdown",
      "source": [
        "The bar chart is a suitable choice for visualizing the performance of agents based on the number of bookings they have made, offering clarity, comparability, and ease of interpretation."
      ],
      "metadata": {
        "id": "dcxuIMRPYuh3"
      }
    },
    {
      "cell_type": "markdown",
      "source": [
        "##### 2. What is/are the insight(s) found from the chart?"
      ],
      "metadata": {
        "id": "GwzvFGzlYuh3"
      }
    },
    {
      "cell_type": "markdown",
      "source": [
        "Though the % of repeat customer may be small but it shows:\n",
        "**Customer Preference for Resort Experiences:** The higher percentage of repeat customers in resort hotels indicates a preference among guests for resort-style accommodations and experiences. This insight suggests that guests value the unique amenities, leisure activities, and ambiance offered by resort hotels, prompting them to return for future stays."
      ],
      "metadata": {
        "id": "uyqkiB8YYuh3"
      }
    },
    {
      "cell_type": "markdown",
      "source": [
        "##### 3. Will the gained insights help creating a positive business impact?\n",
        "Are there any insights that lead to negative growth? Justify with specific reason."
      ],
      "metadata": {
        "id": "qYpmQ266Yuh3"
      }
    },
    {
      "cell_type": "markdown",
      "source": [
        "**Positive Business Impact:**\n",
        "\n",
        "Enhanced Customer Retention: Understanding the higher percentage of repeat customers in resort hotels can guide businesses in developing and implementing effective customer retention strategies. By focusing on building strong relationships with existing customers, offering personalized experiences, and incentivizing loyalty through rewards programs, businesses can increase customer satisfaction and drive repeat bookings."
      ],
      "metadata": {
        "id": "_WtzZ_hCYuh4"
      }
    },
    {
      "cell_type": "markdown",
      "source": [
        "#### Chart - 5"
      ],
      "metadata": {
        "id": "PIIx-8_IphqN"
      }
    },
    {
      "cell_type": "code",
      "source": [
        "# Chart - 5 visualization\n",
        "not_canceled = new_dataset[new_dataset['is_canceled'] == 0]\n",
        "data_point= not_canceled[not_canceled['total_stay'] < 15]\n",
        "plt.figure(figsize = (10,5))\n",
        "sns.countplot(x = s1['total_stay'], hue = data_point['hotel'])\n",
        "plt.show()"
      ],
      "metadata": {
        "id": "lqAIGUfyphqO"
      },
      "execution_count": null,
      "outputs": []
    },
    {
      "cell_type": "markdown",
      "source": [
        "##### 1. Why did you pick the specific chart?"
      ],
      "metadata": {
        "id": "t27r6nlMphqO"
      }
    },
    {
      "cell_type": "markdown",
      "source": [
        "The choice of a count plot with hue differentiation by hotel type to represent the distribution of booking durations (total_stay) for each hotel type has several advantages like\n",
        "Clarity in Representation\n",
        "Comparison between Categories"
      ],
      "metadata": {
        "id": "iv6ro40sphqO"
      }
    },
    {
      "cell_type": "markdown",
      "source": [
        "##### 2. What is/are the insight(s) found from the chart?\n",
        "1.If you see clearly the the most common stays are between (1 to 4) days\n",
        "and\n",
        "\n",
        "2.as the number of days rises the stay at resort hotel increases and stay of city hotel decreases.\n"
      ],
      "metadata": {
        "id": "r2jJGEOYphqO"
      }
    },
    {
      "cell_type": "markdown",
      "source": [
        "##### 3. Will the gained insights help creating a positive business impact?\n",
        "Are there any insights that lead to negative growth? Justify with specific reason."
      ],
      "metadata": {
        "id": "b0JNsNcRphqO"
      }
    },
    {
      "cell_type": "markdown",
      "source": [
        "**Positive Business Impact:**\n",
        "\n",
        "Targeted Marketing Strategies: Understanding that shorter stays benifits city hotels, while longer stays tend to favor resort accommodations, allows businesses to craft targeted marketing campaigns. They can promote resort hotels to customers seeking longer leisure stays, while offering convenient city hotel options for shorter business or transit stays.\n",
        "\n"
      ],
      "metadata": {
        "id": "xvSq8iUTphqO"
      }
    },
    {
      "cell_type": "markdown",
      "source": [
        "#### Chart - 6"
      ],
      "metadata": {
        "id": "BZR9WyysphqO"
      }
    },
    {
      "cell_type": "code",
      "source": [
        "# Chart - 6 visualization code\n",
        "plt.figure( figsize=(10, 8))\n",
        "\n",
        "sns.countplot(x = new_dataset['meal'])\n",
        "plt.show()\n"
      ],
      "metadata": {
        "id": "TdPTWpAVphqO"
      },
      "execution_count": null,
      "outputs": []
    },
    {
      "cell_type": "markdown",
      "source": [
        "##### 1. Why did you pick the specific chart?"
      ],
      "metadata": {
        "id": "jj7wYXLtphqO"
      }
    },
    {
      "cell_type": "markdown",
      "source": [
        "The count plot showing the distribution of meal types has likely been chosen for visualization because it provides valuable insights into the frequency of each meal type within the dataset."
      ],
      "metadata": {
        "id": "Ob8u6rCTphqO"
      }
    },
    {
      "cell_type": "markdown",
      "source": [
        "##### 2. What is/are the insight(s) found from the chart?"
      ],
      "metadata": {
        "id": "eZrbJ2SmphqO"
      }
    },
    {
      "cell_type": "markdown",
      "source": [
        "With larg data of BB shows that the Guest preference is BB(Bed & Breakfast) whereas FB and Undefined is very low nearly zero as compared to large data set and HB and SC is low but not negligible"
      ],
      "metadata": {
        "id": "mZtgC_hjphqO"
      }
    },
    {
      "cell_type": "markdown",
      "source": [
        "##### 3. Will the gained insights help creating a positive business impact?\n",
        "Are there any insights that lead to negative growth? Justify with specific reason."
      ],
      "metadata": {
        "id": "rFu4xreNphqO"
      }
    },
    {
      "cell_type": "markdown",
      "source": [
        "**Tailored Offerings:** Understanding guest preferences regarding meal plans allows hotels to tailor their offerings to meet customer needs more effectively. By offering meal plans that align with guest preferences, hotels can enhance guest satisfaction and loyalty, leading to positive reviews, repeat bookings, and increased revenue.\n",
        "\n",
        "**NEGATIVE GROWTH**\n",
        "\n",
        "**Single Meal :** if customer rely only on Single Meal it will increase the expense of kitchen staff on hotel as output is from single meal options\n",
        "\n",
        "\n"
      ],
      "metadata": {
        "id": "ey_0qi68phqO"
      }
    },
    {
      "cell_type": "markdown",
      "source": [
        "#### Chart - 7"
      ],
      "metadata": {
        "id": "YJ55k-q6phqO"
      }
    },
    {
      "cell_type": "code",
      "source": [
        "# Chart - 9 visualization code\n",
        "fig = plt.figure(figsize=(18, 8))\n",
        "\n",
        "grp_by_room = new_dataset.groupby('assigned_room_type')\n",
        "new_dataset['Num_of_bookings'] = grp_by_room.size()\n",
        "\n",
        "sns.countplot( x = new_dataset['assigned_room_type'])\n",
        "plt.show()"
      ],
      "metadata": {
        "id": "B2aS4O1ophqO"
      },
      "execution_count": null,
      "outputs": []
    },
    {
      "cell_type": "markdown",
      "source": [
        "##### 1. Why did you pick the specific chart?"
      ],
      "metadata": {
        "id": "gCFgpxoyphqP"
      }
    },
    {
      "cell_type": "markdown",
      "source": [
        "A count plot provides a simple and effective way to compare the frequency of different assigned room types. By visualizing the count of each room type, viewers can quickly identify which room types are more commonly booked or preferred by guests."
      ],
      "metadata": {
        "id": "TVxDimi2phqP"
      }
    },
    {
      "cell_type": "markdown",
      "source": [
        "##### 2. What is/are the insight(s) found from the chart?"
      ],
      "metadata": {
        "id": "OVtJsKN_phqQ"
      }
    },
    {
      "cell_type": "markdown",
      "source": [
        "Room types B, D, and E, being the most commonly booked and B is highly booked, suggest that they are popular among guests. Understanding the factors contributing to their popularity, such as room size, view, amenities, or location within the hotel, can help hotels optimize their inventory and pricing strategies."
      ],
      "metadata": {
        "id": "ngGi97qjphqQ"
      }
    },
    {
      "cell_type": "markdown",
      "source": [
        "##### 3. Will the gained insights help creating a positive business impact?\n",
        "Are there any insights that lead to negative growth? Justify with specific reason."
      ],
      "metadata": {
        "id": "lssrdh5qphqQ"
      }
    },
    {
      "cell_type": "markdown",
      "source": [
        "**Revenue Optimization:** Understanding which room types are in high demand allows hotels to strategically price and promote those rooms, maximizing revenue potential. By capitalizing on the popularity of certain room types (e.g., B, D, and E), hotels can implement targeted marketing strategies, package deals, or upselling opportunities to increase average room rates and overall revenue.\n",
        "\n",
        "**Negative Growth Potential:**\n",
        "\n",
        "Underutilized Inventory: While room types B, D, and E may be in high demand, the lower demand for other room types (e.g., A, C, F, G, H, I, J, K, L, and P) may result in underutilized inventory. This underutilization can lead to revenue loss as rooms remain vacant or discounted rates are offered to fill them."
      ],
      "metadata": {
        "id": "9Mt4WebaiJOJ"
      }
    },
    {
      "cell_type": "markdown",
      "source": [],
      "metadata": {
        "id": "tBpY5ekJphqQ"
      }
    },
    {
      "cell_type": "markdown",
      "source": [
        "#### Chart - 8"
      ],
      "metadata": {
        "id": "4Of9eVA-YrdM"
      }
    },
    {
      "cell_type": "code",
      "source": [
        "plt.figure(figsize=(8, 8))\n",
        "new_dataset['customer_type'].value_counts().plot(kind='pie', autopct='%1.1f%%', colors=['skyblue', 'lightgreen', 'coral', 'orange'])\n",
        "plt.title('Customer Type Distribution')\n"
      ],
      "metadata": {
        "id": "t6GMdE67YoAp"
      },
      "execution_count": null,
      "outputs": []
    },
    {
      "cell_type": "markdown",
      "source": [
        "##### 1. Why did you pick the specific chart?"
      ],
      "metadata": {
        "id": "fge-S5ZAYoAp"
      }
    },
    {
      "cell_type": "markdown",
      "source": [
        "pie chart offers a visualization of the distribution of customer types within the dataset"
      ],
      "metadata": {
        "id": "5dBItgRVYoAp"
      }
    },
    {
      "cell_type": "markdown",
      "source": [
        "##### 2. What is/are the insight(s) found from the chart?"
      ],
      "metadata": {
        "id": "85gYPyotYoAp"
      }
    },
    {
      "cell_type": "markdown",
      "source": [
        "82.4 -transient\n",
        "\n",
        "13.4 -transient party,\n",
        "\n",
        "3.6 -contract\n",
        "\n",
        " 0.6 -group"
      ],
      "metadata": {
        "id": "4jstXR6OYoAp"
      }
    },
    {
      "cell_type": "markdown",
      "source": [
        "##### 3. Will the gained insights help creating a positive business impact?\n",
        "Are there any insights that lead to negative growth? Justify with specific reason."
      ],
      "metadata": {
        "id": "RoGjAbkUYoAp"
      }
    },
    {
      "cell_type": "markdown",
      "source": [
        "Targeted Marketing and Services: Understanding the predominant customer types allows hotels to tailor their marketing efforts and services to cater to the specific needs and preferences of each segment. For example, hotels can design promotional campaigns, packages, and amenities tailored to transient travelers, transient party groups, contract clients, and group bookings, thereby attracting and retaining customers more effectively."
      ],
      "metadata": {
        "id": "zfJ8IqMcYoAp"
      }
    },
    {
      "cell_type": "markdown",
      "source": [
        "#### Chart - 9"
      ],
      "metadata": {
        "id": "x-EpHcCOp1ci"
      }
    },
    {
      "cell_type": "code",
      "source": [
        "# Chart - 9 visualization code\n",
        "#Lineplot of arrival_date_year vs. adr\n",
        "plt.figure(figsize=(10, 6))\n",
        "sns.lineplot(x='arrival_date_year', y='adr', data=new_dataset)\n",
        "plt.title('Lineplot of Arrival Year vs. ADR')\n",
        "plt.xlabel('Arrival Year')\n",
        "plt.ylabel('ADR')\n",
        "\n",
        "plt.tight_layout()\n",
        "plt.show()"
      ],
      "metadata": {
        "id": "mAQTIvtqp1cj"
      },
      "execution_count": null,
      "outputs": []
    },
    {
      "cell_type": "markdown",
      "source": [
        "##### 1. Why did you pick the specific chart?"
      ],
      "metadata": {
        "id": "X_VqEhTip1ck"
      }
    },
    {
      "cell_type": "markdown",
      "source": [
        " A line graph connects data points over time, emphasizing the continuity of the trend. This is important when analyzing ADR trends, as it allows viewers to see how prices evolve smoothly over time.\n"
      ],
      "metadata": {
        "id": "-vsMzt_np1ck"
      }
    },
    {
      "cell_type": "markdown",
      "source": [
        "##### 2. What is/are the insight(s) found from the chart?"
      ],
      "metadata": {
        "id": "8zGJKyg5p1ck"
      }
    },
    {
      "cell_type": "markdown",
      "source": [
        "**Change in Pricing Strategy:** A sudden change in the slope of the line could reflect a shift in the hotel's pricing strategy or revenue management approach after 2016. For example, the hotel may have implemented new pricing strategies, such as dynamic pricing or yield management, which resulted in changes in ADR."
      ],
      "metadata": {
        "id": "ZYdMsrqVp1ck"
      }
    },
    {
      "cell_type": "markdown",
      "source": [
        "##### 3. Will the gained insights help creating a positive business impact?\n",
        "Are there any insights that lead to negative growth? Justify with specific reason."
      ],
      "metadata": {
        "id": "PVzmfK_Ep1ck"
      }
    },
    {
      "cell_type": "markdown",
      "source": [
        "Informed Pricing Strategies: Understanding the trends in ADR over time allows hotels to make informed decisions regarding pricing strategies. By identifying periods of increasing or stable ADR, hotels can capitalize on demand and adjust prices accordingly to maximize revenue."
      ],
      "metadata": {
        "id": "veqewVyr0pWG"
      }
    },
    {
      "cell_type": "markdown",
      "source": [],
      "metadata": {
        "id": "druuKYZpp1ck"
      }
    },
    {
      "cell_type": "markdown",
      "source": [
        "#### Chart - 10"
      ],
      "metadata": {
        "id": "OH-pJp9IphqM"
      }
    },
    {
      "cell_type": "code",
      "source": [
        "# Chart - 10 visualization code\n",
        "plt.figure(figsize=(10, 6))\n",
        "sns.scatterplot(x='lead_time', y='adr', data=new_dataset, alpha=0.5)\n",
        "plt.title('Scatterplot of Lead Time vs. Average Daily Rate (ADR)')\n",
        "plt.xlabel('Lead Time (days)')\n",
        "plt.ylabel('ADR')"
      ],
      "metadata": {
        "id": "kuRf4wtuphqN"
      },
      "execution_count": null,
      "outputs": []
    },
    {
      "cell_type": "code",
      "source": [
        "#now we will remove the outlier"
      ],
      "metadata": {
        "id": "oplIgVY80xlW"
      },
      "execution_count": null,
      "outputs": []
    },
    {
      "cell_type": "markdown",
      "source": [
        "##### 1. Why did you pick the specific chart?"
      ],
      "metadata": {
        "id": "bbFf2-_FphqN"
      }
    },
    {
      "cell_type": "markdown",
      "source": [
        "The scatterplot was chosen because it effectively visualizes the relationship between lead time and ADR, allowing for the identification of patterns, clusters, and outliers in the data. By plotting lead time against ADR, businesses can gain insights into how booking timing influences pricing, enabling them to make data-driven decisions to optimize revenue and enhance customer satisfaction."
      ],
      "metadata": {
        "id": "loh7H2nzphqN"
      }
    },
    {
      "cell_type": "markdown",
      "source": [
        "##### 2. What is/are the insight(s) found from the chart?"
      ],
      "metadata": {
        "id": "_ouA3fa0phqN"
      }
    },
    {
      "cell_type": "markdown",
      "source": [
        "\n",
        "Based on the provided information about the scatterplot with ADR ranging from 0 to 5000 on the y-axis and lead time ranging from 0 to 700 on the x-axis, where the majority of the data is concentrated within the ranges of 0 to 400 ADR and 0 to 300 lead time, with outliers including one data point with ADR above 5000 and two data points with lead time above 700, we can derive the following insights:\n",
        "IF WE SEE CLOSELY ADR price is higher when the lead time is less but their is presence of an outlier\n",
        "\n",
        "\n",
        "**Outliers:** The presence of outliers, such as the data point with ADR above 5000 and the two data points with lead time above 700, suggests instances of atypical booking behavior. These outliers could represent unique cases, such as high-value bookings or bookings made significantly in advance, which may warrant further investigation to understand their drivers and implications."
      ],
      "metadata": {
        "id": "VECbqPI7phqN"
      }
    },
    {
      "cell_type": "markdown",
      "source": [
        "##### 3. Will the gained insights help creating a positive business impact?\n",
        "Are there any insights that lead to negative growth? Justify with specific reason."
      ],
      "metadata": {
        "id": "Seke61FWphqN"
      }
    },
    {
      "cell_type": "markdown",
      "source": [
        "**Positive Business Impact**\n",
        "\n",
        "**Price Sensitivity Analysis:** Analyzing the scatterplot can help businesses understand how lead time affects ADR. Insights gained from the plot can inform pricing strategies, allowing businesses to optimize rates based on lead time. For instance, they can offer competitive pricing for last-minute bookings to attract spontaneous customers while adjusting rates for early bookings to maximize revenue.\n",
        "\n",
        "**Potential Negative Growth:**\n",
        "\n",
        "**Customer Dissatisfaction:** Inconsistent pricing or service offerings across different booking patterns may lead to customer dissatisfaction and erosion of trust. Customers booking at different lead times may perceive unfairness if they receive unequal treatment or pricing discrepancies, potentially resulting in negative word-of-mouth and reputational damage.\n"
      ],
      "metadata": {
        "id": "DW4_bGpfphqN"
      }
    },
    {
      "cell_type": "markdown",
      "source": [
        "#### Chart - 11"
      ],
      "metadata": {
        "id": "U2RJ9gkRphqQ"
      }
    },
    {
      "cell_type": "code",
      "source": [
        "# Chart - 11 visualization code\n",
        "top_countries = new_dataset['country'].value_counts().head(10)\n",
        "plt.figure(figsize=(10, 6))\n",
        "sns.barplot(x=top_countries.index, y=top_countries.values)\n",
        "plt.title('Top 10 Countries with Highest Booking Counts')\n",
        "plt.xlabel('Country')\n",
        "plt.ylabel('Booking Counts')"
      ],
      "metadata": {
        "id": "GM7a4YP4phqQ"
      },
      "execution_count": null,
      "outputs": []
    },
    {
      "cell_type": "code",
      "source": [
        "import plotly.express as px\n",
        "country_wise_guests = new_dataset[new_dataset['is_canceled'] == 0]['country'].value_counts().reset_index()\n",
        "country_wise_guests.columns = ['country', 'No of guests']\n",
        "country_wise_guests\n",
        "guests_map = px.choropleth(country_wise_guests, locations = country_wise_guests['country'],color = country_wise_guests['No of guests'], hover_name = country_wise_guests['country'],color_continuous_scale=\"Viridis\", title=\"VISITORS FROM DIFFERENT NATIONS\")\n",
        "guests_map.show()\n"
      ],
      "metadata": {
        "id": "79A07naWnOfe"
      },
      "execution_count": null,
      "outputs": []
    },
    {
      "cell_type": "markdown",
      "source": [
        "##### 1. Why did you pick the specific chart?"
      ],
      "metadata": {
        "id": "1M8mcRywphqQ"
      }
    },
    {
      "cell_type": "markdown",
      "source": [
        " The bar plot provides a clear and intuitive visualization of the booking counts for the top 10 countries. The height of each bar represents the number of bookings, making it easy to compare the booking counts across different countries.\n",
        "and World Map shows all the visitors country"
      ],
      "metadata": {
        "id": "8agQvks0phqQ"
      }
    },
    {
      "cell_type": "markdown",
      "source": [
        "##### 2. What is/are the insight(s) found from the chart?"
      ],
      "metadata": {
        "id": "tgIPom80phqQ"
      }
    },
    {
      "cell_type": "markdown",
      "source": [
        "most number of visitors are from portuguese and  Europe, we can make a small idea if we don't have a idea of hotel location that the provide hotel data is from the hotel based in europe especially Portuguese"
      ],
      "metadata": {
        "id": "Qp13pnNzphqQ"
      }
    },
    {
      "cell_type": "markdown",
      "source": [
        "##### 3. Will the gained insights help creating a positive business impact?\n",
        "Are there any insights that lead to negative growth? Justify with specific reason."
      ],
      "metadata": {
        "id": "JMzcOPDDphqR"
      }
    },
    {
      "cell_type": "markdown",
      "source": [
        "**Targeted Marketing:** Tailoring marketing efforts towards Portuguese and European visitors can lead to increased bookings and revenue. By understanding the preferences and cultural nuances of these demographics, hotels can create more effective marketing campaigns that resonate with potential guests.\n",
        "\n",
        "**Potential Negative Growth Insights:**\n",
        "\n",
        "**Overreliance on Specific Markets**: While targeting Portuguese and European visitors can be beneficial, over-reliance on these markets may pose risks, especially if there are external factors that impact travel patterns or economic conditions in these regions. A sudden downturn in tourism from Portugal or Europe could lead to a decrease in bookings and revenue for the hotel.Answer Here"
      ],
      "metadata": {
        "id": "R4Ka1PC2phqR"
      }
    },
    {
      "cell_type": "markdown",
      "source": [
        "#### Chart - 12"
      ],
      "metadata": {
        "id": "n3dbpmDWp1ck"
      }
    },
    {
      "cell_type": "code",
      "source": [
        "# Chart - 12 visualization code\n",
        "total_adr_per_channel = new_dataset.groupby('distribution_channel')['adr'].sum()\n",
        "\n",
        "# Create a pie chart\n",
        "plt.figure(figsize=(8, 8))\n",
        "plt.pie(total_adr_per_channel, labels=total_adr_per_channel.index, autopct='%1.1f%%', startangle=140)\n",
        "plt.title('Distribution of ADR Across Distribution Channels')\n",
        "plt.axis('equal')  # Equal aspect ratio ensures that pie is drawn as a circle.\n",
        "\n",
        "# Show the plot\n",
        "plt.show()"
      ],
      "metadata": {
        "id": "bwevp1tKp1ck"
      },
      "execution_count": null,
      "outputs": []
    },
    {
      "cell_type": "markdown",
      "source": [
        "##### 1. Why did you pick the specific chart?"
      ],
      "metadata": {
        "id": "ylSl6qgtp1ck"
      }
    },
    {
      "cell_type": "markdown",
      "source": [
        "The pie chart displays the proportion of total ADR contributed by each distribution channel. Each slice of the pie represents a distribution channel, and the size of each slice corresponds to the proportion of ADR generated by that channel relative to the total ADR\n"
      ],
      "metadata": {
        "id": "m2xqNkiQp1ck"
      }
    },
    {
      "cell_type": "markdown",
      "source": [
        "##### 2. What is/are the insight(s) found from the chart?"
      ],
      "metadata": {
        "id": "ZWILFDl5p1ck"
      }
    },
    {
      "cell_type": "markdown",
      "source": [
        "80.8% of the total ADR comes from the TA/TO (Travel Agents/Tour Operators) distribution channel.\n",
        "\n",
        "15.2% of the total ADR comes from the Direct distribution channel.\n",
        "\n",
        "3.7% of the total ADR comes from the Corporate distribution channel.\n",
        "\n",
        "0.2% of the total ADR comes from the GDS (Global Distribution System) distribution channel.\n",
        "\n",
        "0.1% of the total ADR comes from the Undefined distribution channel.\n",
        "\n",
        "This breakdown illustrates the relative contribution of each distribution channel to the overall ADR. It highlights the dominance of the TA/TO channel in generating revenue, followed by Direct and Corporate channels. GDS and Undefined channels contribute minimally to the total ADR."
      ],
      "metadata": {
        "id": "x-lUsV2mp1ck"
      }
    },
    {
      "cell_type": "markdown",
      "source": [
        "##### 3. Will the gained insights help creating a positive business impact?\n",
        "Are there any insights that lead to negative growth? Justify with specific reason."
      ],
      "metadata": {
        "id": "M7G43BXep1ck"
      }
    },
    {
      "cell_type": "markdown",
      "source": [
        "Dependency on Specific Channels: Overreliance on a single distribution channel, particularly if it accounts for the majority of ADR, can pose risks to revenue stability. Changes in market conditions, shifts in consumer behavior, or disruptions to the preferred channel could lead to negative growth if hotels are overly dependent on that channel."
      ],
      "metadata": {
        "id": "5wwDJXsLp1cl"
      }
    },
    {
      "cell_type": "markdown",
      "source": [
        "#### Chart - 13"
      ],
      "metadata": {
        "id": "Ag9LCva-p1cl"
      }
    },
    {
      "cell_type": "code",
      "source": [
        "# Chart - 13 visualization code\n",
        "plt.figure(figsize=(15, 8))\n",
        "new_dataset.groupby('arrival_date_month')['adr'].mean().plot(marker='o', color='skyblue', linestyle='-')\n",
        "plt.title('Average Daily Rate (ADR) by Month of Arrival')\n",
        "plt.xlabel('Month of Arrival')\n",
        "plt.ylabel('Average Daily Rate (ADR)')\n",
        "plt.xticks(rotation=45)\n",
        "plt.grid(True)\n",
        "plt.show()\n"
      ],
      "metadata": {
        "id": "EUfxeq9-p1cl"
      },
      "execution_count": null,
      "outputs": []
    },
    {
      "cell_type": "code",
      "source": [
        "# Reindexing the DataFrame to include all months\n",
        "reindex = ['January', 'February', 'March', 'April', 'May', 'June', 'July', 'August', 'September', 'October', 'November', 'December']\n",
        "new_dataset['arrival_date_month'] = pd.Categorical(new_dataset['arrival_date_month'], categories=reindex, ordered=True)\n",
        "\n",
        "# Grouping by month and calculating the mean ADR\n",
        "mean_adr_by_month = new_dataset.groupby('arrival_date_month')['adr'].mean()\n",
        "\n",
        "# Reindexing to include all months and filling missing values with NaN\n",
        "mean_adr_by_month = mean_adr_by_month.reindex(reindex)\n",
        "\n",
        "# Plotting the line plot\n",
        "plt.figure(figsize=(15, 8))\n",
        "mean_adr_by_month.plot(marker='o', color='skyblue', linestyle='-')\n",
        "plt.title('Average Daily Rate (ADR) by Month of Arrival')\n",
        "plt.xlabel('Month of Arrival')\n",
        "plt.ylabel('Average Daily Rate (ADR)')\n",
        "plt.xticks(rotation=45)\n",
        "plt.grid(True)\n",
        "plt.show()\n"
      ],
      "metadata": {
        "id": "mHf5ZXaxH82f"
      },
      "execution_count": null,
      "outputs": []
    },
    {
      "cell_type": "code",
      "source": [
        "\n",
        "\n",
        "# Reindexing the DataFrame to include all months\n",
        "reindex = ['January', 'February', 'March', 'April', 'May', 'June', 'July', 'August', 'September', 'October', 'November', 'December']\n",
        "new_dataset['arrival_date_month'] = pd.Categorical(new_dataset['arrival_date_month'], categories=reindex, ordered=True)\n",
        "\n",
        "# Grouping by month and hotel type and calculating the mean ADR\n",
        "mean_adr_by_month_hotel = new_dataset.groupby(['arrival_date_month', 'hotel'])['adr'].mean().unstack()\n",
        "\n",
        "# Plotting the line plot\n",
        "plt.figure(figsize=(15, 8))\n",
        "sns.lineplot(data=mean_adr_by_month_hotel, markers=True, linewidth=2.5)\n",
        "plt.title('Average Daily Rate (ADR) by Month of Arrival')\n",
        "plt.xlabel('Month of Arrival')\n",
        "plt.ylabel('Average Daily Rate (ADR)')\n",
        "plt.xticks(rotation=45)\n",
        "plt.grid(True)\n",
        "plt.legend(title='Hotel Type')\n",
        "plt.show()\n"
      ],
      "metadata": {
        "id": "ioxFTgkYIYVC"
      },
      "execution_count": null,
      "outputs": []
    },
    {
      "cell_type": "markdown",
      "source": [
        "##### 1. Why did you pick the specific chart?"
      ],
      "metadata": {
        "id": "E6MkPsBcp1cl"
      }
    },
    {
      "cell_type": "markdown",
      "source": [
        "\n",
        "\n",
        "A line plot is suitable for visualizing the average daily rate (ADR) over time, particularly when you want to observe trends or patterns in the data across different months. Here's why a line plot is a good choice for the given data:"
      ],
      "metadata": {
        "id": "V22bRsFWp1cl"
      }
    },
    {
      "cell_type": "markdown",
      "source": [
        "##### 2. What is/are the insight(s) found from the chart?"
      ],
      "metadata": {
        "id": "2cELzS2fp1cl"
      }
    },
    {
      "cell_type": "markdown",
      "source": [
        "**Seasonal Variation** in Resort Hotel ADR: ADR for the resort hotel exhibits significant seasonal variation, with peak ADR observed in August (190) and lower ADR during off-peak months such as November (55) and December (68). The summer months (June to August) generally show higher ADR, likely due to increased demand for vacation stays.\n",
        "\n",
        "**Stable ADR** in City Hotel: ADR for the city hotel remains relatively stable throughout the year, ranging from 85 to 128. While there are some fluctuations, particularly in the shoulder months (e.g., February and November), the overall trend is one of consistency in ADR."
      ],
      "metadata": {
        "id": "ozQPc2_Ip1cl"
      }
    },
    {
      "cell_type": "markdown",
      "source": [
        "##### 3. Will the gained insights help creating a positive business impact?\n",
        "Are there any insights that lead to negative growth? Justify with specific reason."
      ],
      "metadata": {
        "id": "3MPXvC8up1cl"
      }
    },
    {
      "cell_type": "markdown",
      "source": [
        "**Operational Efficiency:** Knowledge of seasonal demand patterns helps hotels streamline operations by aligning staffing levels, inventory management, and service provisioning with anticipated fluctuations in guest arrivals. This ensures efficient utilization of resources and enhances the overall guest experience.\n",
        "\n",
        "**Missed Revenue Opportunities:** Failure to capitalize on peak seasons by implementing effective revenue management strategies or marketing initiatives may result in missed revenue opportunities. Hotels that do not adjust pricing or promotional efforts based on demand fluctuations may fail to maximize revenue during high-demand periods."
      ],
      "metadata": {
        "id": "GL8l1tdLp1cl"
      }
    },
    {
      "cell_type": "markdown",
      "source": [
        "#### Chart - 14 - Correlation Heatmap"
      ],
      "metadata": {
        "id": "NC_X3p0fY2L0"
      }
    },
    {
      "cell_type": "markdown",
      "source": [
        "columns like 'is_cancelled', 'arrival_date_year', 'arrival_date_week_number', 'arrival_date_day_of_month', 'is_repeated_guest', 'company', 'agent' are categorical data having numerical type and these table won't contribute in matrix so,we'll remove it.\n",
        "and we have total_people and total_stay we'll remove columns -adult,children,babies, and stays_in_week_nights and stays_in_weekend_nights or they'll produce unnecessary data"
      ],
      "metadata": {
        "id": "R86G99v18M6l"
      }
    },
    {
      "cell_type": "code",
      "source": [
        "correlation_columns= new_dataset[['lead_time','previous_cancellations','previous_bookings_not_canceled','booking_changes','days_in_waiting_list','adr','required_car_parking_spaces','total_of_special_requests','total_stay','total_people']]\n",
        "# Correlation Heatmap visualization code\n",
        "corr_matrix = correlation_columns.corr()\n",
        "# Set up the matplotlib figure\n",
        "plt.figure(figsize=(12, 10))\n",
        "\n",
        "# Draw the heatmap with the mask and correct aspect ratio\n",
        "sns.heatmap(corr_matrix, cmap='coolwarm', annot=True, fmt=\".2f\", linewidths=.5)\n",
        "\n",
        "# Set the title\n",
        "plt.title('Correlation Heatmap')"
      ],
      "metadata": {
        "id": "xyC9zolEZNRQ"
      },
      "execution_count": null,
      "outputs": []
    },
    {
      "cell_type": "markdown",
      "source": [
        "##### 1. Why did you pick the specific chart?"
      ],
      "metadata": {
        "id": "UV0SzAkaZNRQ"
      }
    },
    {
      "cell_type": "markdown",
      "source": [
        "A correlation matrix is a statistical tool used to quantify the relationship between variables in a dataset. In the context of your selected columns from the new_dataset\n",
        "\n",
        "a correlation matrix can provide valuable insights into how these variables are related to each other\n",
        "\n",
        "The correlation coefficients in the matrix indicate both the strength and direction of relationships between variables. A coefficient close to 1 or -1 indicates a strong positive or negative correlation, respectively, while a coefficient close to 0 indicates little to no correlation."
      ],
      "metadata": {
        "id": "DVPuT8LYZNRQ"
      }
    },
    {
      "cell_type": "markdown",
      "source": [
        "##### 2. What is/are the insight(s) found from the chart?"
      ],
      "metadata": {
        "id": "YPEH6qLeZNRQ"
      }
    },
    {
      "cell_type": "markdown",
      "source": [
        "**Total Stay and Lead Time (0.32):**\n",
        "\n",
        "A positive correlation coefficient of 0.32 suggests a moderate positive relationship between total stay duration and lead time.\n",
        "This indicates that as the lead time increases (i.e., the duration between booking and arrival), the total stay duration tends to increase as well, although the relationship is not extremely strong.\n",
        "\n",
        "**ADR and Total People (0.38):**\n",
        "\n",
        "A positive correlation coefficient of 0.38 suggests a moderate positive relationship between average daily rate (ADR) and the total number of people (adults, children, babies) in the reservation.\n",
        "This indicates that reservations with a higher number of people tend to have a higher ADR, though again, the relationship is not extremely strong.\n",
        "\n",
        "**Previous Booking Canceled and Previous Cancellation (0.39):**\n",
        "\n",
        "A positive correlation coefficient of 0.39 indicates a moderate positive relationship between the number of previous bookings canceled and the number of previous cancellations.\n",
        "This suggests that there is a tendency for customers who have canceled bookings in the past to have a higher frequency of cancellations overall."
      ],
      "metadata": {
        "id": "bfSqtnDqZNRR"
      }
    },
    {
      "cell_type": "markdown",
      "source": [
        "#### Chart - 15 - Pair Plot"
      ],
      "metadata": {
        "id": "q29F0dvdveiT"
      }
    },
    {
      "cell_type": "code",
      "source": [
        "# Pair Plot visualization code\n",
        "\n",
        "# Selecting columns for pair plot\n",
        "pairplot_cols = ['arrival_date_month', 'total_people', 'adr']\n",
        "plt.figure(figsize=(20, 12))\n",
        "\n",
        "# Creating the pair plot\n",
        "sns.pairplot(new_dataset[pairplot_cols], hue='arrival_date_month')\n",
        "\n",
        "# Display the plot\n",
        "plt.show()\n",
        "\n"
      ],
      "metadata": {
        "id": "o58-TEIhveiU"
      },
      "execution_count": null,
      "outputs": []
    },
    {
      "cell_type": "markdown",
      "source": [
        "##### 1. Why did you pick the specific chart?"
      ],
      "metadata": {
        "id": "EXh0U9oCveiU"
      }
    },
    {
      "cell_type": "markdown",
      "source": [
        "the selected columns seem reasonable for exploring relationships related to hotel bookings, particularly focusing on the influence of arrival date, group size, and average daily rate."
      ],
      "metadata": {
        "id": "eMmPjTByveiU"
      }
    },
    {
      "cell_type": "markdown",
      "source": [
        "Answer Here"
      ],
      "metadata": {
        "id": "uPQ8RGwHveiV"
      }
    },
    {
      "cell_type": "markdown",
      "source": [
        "## **5. Solution to Business Objective**"
      ],
      "metadata": {
        "id": "JcMwzZxoAimU"
      }
    },
    {
      "cell_type": "markdown",
      "source": [
        "#### What do you suggest the client to achieve Business Objective ?\n",
        "Explain Briefly."
      ],
      "metadata": {
        "id": "8G2x9gOozGDZ"
      }
    },
    {
      "cell_type": "markdown",
      "source": [
        "Based on the insights derived from the visualization of hotel booking data, the following solutions can be proposed to achieve the business objectives:\n",
        "\n",
        "**Optimize Agent Partnerships:**\n",
        "\n",
        "Identify top-performing agents and establish stronger partnerships with them to drive more bookings.\n",
        "Offer incentives or rewards to agents who consistently generate high booking volumes.\n",
        "\n",
        "**Segmented Marketing Strategies:**\n",
        "\n",
        "Tailor marketing campaigns and promotions based on customer segments such as transient, transient party, contract, and group.\n",
        "Design targeted offers and packages to attract different types of guests and maximize revenue.\n",
        "\n",
        "**Dynamic Pricing Strategies:**\n",
        "\n",
        "Implement dynamic pricing strategies to adjust room rates based on demand fluctuations and market trends.\n",
        "Utilize data-driven insights to set optimal pricing levels for different room types, seasons, and booking channels.\n",
        "\n",
        "**Enhanced Customer Experience:**\n",
        "\n",
        "Focus on delivering exceptional guest experiences to encourage repeat bookings and positive reviews.\n",
        "Personalize services based on guest preferences, such as meal options, room amenities, and special requests.\n",
        "\n",
        "**Distribution Channel Optimization:**\n",
        "\n",
        "Analyze the contribution of distribution channels to overall revenue and prioritize partnerships with high-performing channels.\n",
        "Invest in direct booking channels to reduce reliance on third-party agents and increase profit margins.\n",
        "\n",
        "**Seasonal Pricing and Promotions:**\n",
        "\n",
        "Adjust pricing and promotional offers based on seasonal demand patterns observed in the data.\n",
        "Launch targeted promotions during peak booking periods to capitalize on increased demand.\n",
        "\n",
        "**Room Inventory Management:**\n",
        "\n",
        "Optimize room inventory allocation based on the popularity of room types and guest preferences.\n",
        "Ensure availability of preferred room types during peak seasons to meet customer demand.\n",
        "\n",
        "**Outlier Investigation and Management:**\n",
        "\n",
        "Investigate outliers in booking data to understand unique booking patterns and customer behavior.\n",
        "Address any issues or discrepancies identified through outlier analysis to improve overall booking performance.\n",
        "\n",
        "**Market Expansion Opportunities:**\n",
        "\n",
        "Explore opportunities to expand into new markets or regions based on guest origin analysis.\n",
        "Tailor marketing strategies to target potential customers in regions with high demand for hotel accommodations.\n",
        "\n",
        "**Continuous Monitoring and Adaptation:**\n",
        "\n",
        "Continuously monitor key performance indicators and market trends to identify opportunities and challenges.\n",
        "Adapt strategies and tactics based on evolving customer preferences, market dynamics, and competitive landscape.\n",
        "By implementing these solutions, the hotel can effectively optimize its operations, increase revenue, and enhance guest satisfaction, ultimately driving positive business outcomes and achieving its objectives."
      ],
      "metadata": {
        "id": "pASKb0qOza21"
      }
    },
    {
      "cell_type": "markdown",
      "source": [
        "# **Conclusion**"
      ],
      "metadata": {
        "id": "Bf9eo72QaT96"
      }
    },
    {
      "cell_type": "markdown",
      "source": [
        "**Insights from Hotel Booking Data Visualization**\n",
        "\n",
        "**Top Performing Agents:**\n",
        "\n",
        "Agent '9' shows the highest performance, followed by agent '250'.\n",
        "Understanding the performance of agents can help optimize partnerships and incentives.\n",
        "\n",
        "**Hotel Type Distribution:**\n",
        "\n",
        "City hotels account for 60% of reservations, while resort hotels comprise the remaining 40%.\n",
        "Tailoring marketing and service offerings based on hotel type is essential.\n",
        "\n",
        "**Average Daily Rate (ADR) Analysis:**\n",
        "\n",
        "Despite higher demand for city hotels, their ADR is slightly higher than that of resort hotels.\n",
        "Pricing strategies may vary based on location, amenities, and target market.\n",
        "\n",
        "**Repeat Customer Preference:**\n",
        "\n",
        "The presence of repeat customers, particularly in resort hotels, indicates a preference for resort-style experiences.\n",
        "Focusing on guest satisfaction and loyalty programs can enhance customer retention.\n",
        "\n",
        "**Stay Duration Trends:**\n",
        "\n",
        "Most stays range from 1 to 4 days, with longer stays observed more frequently in resort hotels.\n",
        "Understanding guest preferences for stay duration can inform marketing and pricing strategies.\n",
        "\n",
        "**Meal Preference Insights:**\n",
        "\n",
        "Bed & Breakfast (BB) is the preferred meal type, while options like Full Board (FB) and Undefined are less common.\n",
        "Tailoring meal packages and offerings to guest preferences can enhance satisfaction.\n",
        "\n",
        "**Room Type Popularity:**\n",
        "\n",
        "Room types B, D, and E are the most commonly booked, with type B being highly popular.\n",
        "Optimizing room inventory and amenities based on popularity can maximize revenue.\n",
        "\n",
        "**Customer Segmentation:**\n",
        "\n",
        "Transient guests comprise 82.4% of bookings, followed by transient party, contract, and group segments.\n",
        "Targeted marketing and service offerings tailored to different segments can enhance guest experiences.\n",
        "\n",
        "**Pricing Strategy Changes:**\n",
        "\n",
        "A change in pricing strategy, indicated by a shift in the ADR trend after 2016, may reflect new revenue management approaches.\n",
        "Monitoring pricing trends and guest behavior is essential for strategic decision-making.\n",
        "\n",
        "**Outlier Detection:**\n",
        "\n",
        "Outliers in ADR and lead time data may represent unique booking patterns or high-value reservations.\n",
        "Investigating outliers can uncover opportunities for revenue optimization and guest engagement.\n",
        "\n",
        "**Guest Origin Analysis:**\n",
        "\n",
        "Majority of visitors are from Portugal and Europe, suggesting the dataset represents hotels located in Europe.\n",
        "Targeting marketing efforts and services to specific regions can enhance guest engagement.\n",
        "\n",
        "**Distribution Channel Contribution:**\n",
        "\n",
        "TA/TO distribution channel contributes significantly to ADR, followed by Direct and Corporate channels.\n",
        "Optimizing distribution channel partnerships can drive revenue growth and market reach.\n",
        "\n",
        "**Seasonal ADR Variation:**\n",
        "\n",
        "Resort hotel ADR exhibits significant seasonal variation, peaking in August and declining in off-peak months.\n",
        "City hotel ADR remains relatively stable throughout the year, with minor fluctuations.\n",
        "\n",
        "**Correlation Analysis Insights:**\n",
        "\n",
        "Moderate positive correlations observed between total stay duration and lead time, ADR and total people, and previous booking cancellations.\n",
        "Understanding these correlations can inform revenue management and guest satisfaction strategies.\n",
        "\n",
        "# **Conclusion**\n",
        "The visualization of hotel booking data provides valuable insights into guest preferences, booking patterns, and revenue trends. By leveraging these insights, hotels can optimize marketing strategies, pricing models, and service offerings to enhance guest satisfaction, drive revenue growth, and maintain a competitive edge in the hospitality industry. Continuous monitoring of key metrics and adaptation to changing market dynamics are essential for long-term success."
      ],
      "metadata": {
        "id": "Fjb1IsQkh3yE"
      }
    },
    {
      "cell_type": "markdown",
      "source": [
        "### ***Hurrah! You have successfully completed your EDA Capstone Project !!!***"
      ],
      "metadata": {
        "id": "gIfDvo9L0UH2"
      }
    }
  ]
}